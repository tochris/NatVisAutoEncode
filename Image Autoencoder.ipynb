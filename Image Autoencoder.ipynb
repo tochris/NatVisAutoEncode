{
 "cells": [
  {
   "cell_type": "code",
   "execution_count": 74,
   "metadata": {
    "collapsed": false
   },
   "outputs": [],
   "source": [
    "#Dependencies\n",
    "import os\n",
    "import numpy as np\n",
    "import pylab as pl\n",
    "import tensorflow as tf\n",
    "import matplotlib.pyplot as plt\n",
    "\n",
    "import utils.plotutils as plu\n",
    "import utils.imreadin as imr\n",
    "import utils.animutils as aniu\n",
    "\n",
    "%matplotlib inline"
   ]
  },
  {
   "cell_type": "code",
   "execution_count": 76,
   "metadata": {
    "collapsed": false
   },
   "outputs": [],
   "source": [
    "#Model Parameters\n",
    "\n",
    "tanh_model = 0\n",
    "relu_model = 0\n",
    "sigmoid_model = 1\n",
    "\n",
    "#network params\n",
    "compression = 5\n",
    "patchsize = 16\n",
    "\n",
    "#training params\n",
    "batchsize = 1000\n",
    "iterations = 4000\n",
    "epochs = 10\n",
    "\n",
    "if(tanh_model):\n",
    "    noisexsigma = 0\n",
    "    noisersigma = 0\n",
    "    minact = 0\n",
    "    minslo = 0 \n",
    "    learning_rate = 0.001\n",
    "    model_type = 'tanh'\n",
    "elif(relu_model):\n",
    "    noisexsigma = 0.01\n",
    "    noisersigma = 0.5\n",
    "    minact = 0\n",
    "    minslo = 0 \n",
    "    learning_rate = 0.01\n",
    "    model_type = 'relu'\n",
    "elif(sigmoid_model):\n",
    "    #noise\n",
    "    noisexsigma = 0.01\n",
    "    noisersigma = 0.05\n",
    "    minact = 0 \n",
    "    minslo = 0\n",
    "    learning_rate = 0.01\n",
    "    model_type = 'sigmoid'\n",
    "else:\n",
    "    raise ValueError('No model specified!')"
   ]
  },
  {
   "cell_type": "code",
   "execution_count": 77,
   "metadata": {
    "collapsed": false
   },
   "outputs": [
    {
     "name": "stdout",
     "output_type": "stream",
     "text": [
      "Images Loaded.\n",
      "Training 4000000 out of 4685824 total image patches.\n"
     ]
    }
   ],
   "source": [
    "#Load in images if we haven't yet.\n",
    "\n",
    "def loadimages(psz):\n",
    "    print(\"Loading Van Hateren Natural Image Database...\")\n",
    "    vhimgs = imr.vanHateren(\n",
    "        img_dir='../vanHaterenNaturalImages/VanHaterenNaturalImagesCurated.h5',\n",
    "        #normalize=True,\n",
    "        normalize_im = True,\n",
    "        normalize_patch = False,\n",
    "        patch_edge_size=psz\n",
    "        )\n",
    "    print(\"Done Loading!\")    \n",
    "    np.random.shuffle(vhimgs.images)\n",
    "    print(\"Done Shuffling!\")\n",
    "    return(vhimgs, psz)\n",
    "\n",
    "try:\n",
    "    vhims\n",
    "except NameError:\n",
    "    vhims, loadedpatchsize = loadimages(patchsize)\n",
    "    \n",
    "if(patchsize != loadedpatchsize):\n",
    "    vhims, loadedpatchsize = loadimages(patchsize)\n",
    "       \n",
    "print(\"Images Loaded.\")\n",
    "\n",
    "#params of images\n",
    "imxlen = len(vhims.images[0,0,:])\n",
    "imylen = len(vhims.images[0,:,0])\n",
    "nimages = len(vhims.images[:,0,0])\n",
    "\n",
    "nimstrained = batchsize * iterations\n",
    "\n",
    "if(nimstrained > nimages):\n",
    "    print('ERROR! Trying to train',nimstrained,'images, but we only have',nimages,'images!')\n",
    "else:\n",
    "    print('Training',nimstrained,'out of',nimages,'total image patches.')"
   ]
  },
  {
   "cell_type": "code",
   "execution_count": 78,
   "metadata": {
    "collapsed": false
   },
   "outputs": [
    {
     "data": {
      "text/plain": [
       "<matplotlib.colorbar.Colorbar at 0x7ff50b2b1dd8>"
      ]
     },
     "execution_count": 78,
     "metadata": {},
     "output_type": "execute_result"
    },
    {
     "data": {
      "image/png": "[encoded data removed]",
      "text/plain": [
       "<matplotlib.figure.Figure at 0x7ff55c1042e8>"
      ]
     },
     "metadata": {},
     "output_type": "display_data"
    }
   ],
   "source": [
    "#show an example image\n",
    "plt.imshow(vhims.images[100],cmap='gray',interpolation='none')\n",
    "plt.colorbar()"
   ]
  },
  {
   "cell_type": "code",
   "execution_count": null,
   "metadata": {
    "collapsed": false
   },
   "outputs": [
    {
     "name": "stdout",
     "output_type": "stream",
     "text": [
      "Compressing by 5 for a total of 51 neurons\n"
     ]
    }
   ],
   "source": [
    "nneurons = np.int(imxlen*imylen/compression)\n",
    "print('Compressing by',compression,'for a total of',nneurons,'neurons')\n",
    "savefolder = str('./output/actfun_'+model_type+'/neurons_'+str(nneurons)+'/noise_in_'+str(noisexsigma)+'_out_'+str(noisersigma)+'/')\n",
    "if not os.path.exists(savefolder):\n",
    "    os.makedirs(savefolder)\n",
    "\n",
    "#setup our graph\n",
    "    \n",
    "#input image\n",
    "x = tf.placeholder(tf.float32, shape=(batchsize, imxlen*imylen),name='input_image')\n",
    "\n",
    "#activation function type\n",
    "act_fun = tf.placeholder(tf.string, name= 'activation_function')\n",
    "\n",
    "#noise\n",
    "nxc = noisexsigma**2\n",
    "nrc = noisersigma**2\n",
    "nx = tf.constant(nxc,dtype=tf.float32,name='input_noise')\n",
    "nr = tf.constant(nrc,dtype=tf.float32,name='internal_noise')\n",
    "\n",
    "#weights\n",
    "win = tf.Variable(tf.random_normal([imxlen*imylen,nneurons],dtype=tf.float32,stddev=0.1),name='weights_in')\n",
    "#wout = tf.Variable(tf.random_normal([nneurons,imxlen*imylen],dtype=tf.float32,stddev=0.01),name='weights_out')\n",
    "\n",
    "#bias\n",
    "bias = tf.Variable(tf.random_normal([nneurons],dtype=tf.float32,stddev=0.1),name='bias')\n",
    "\n",
    "#define nonlinearities\n",
    "def tanh_fun(arg):\n",
    "    return tf.nn.tanh(arg) \n",
    "def sigmoid_fun(arg):\n",
    "    return tf.nn.sigmoid(arg) \n",
    "def relu_fun(arg):\n",
    "    return tf.nn.relu(arg) \n",
    "def no_fun(arg):\n",
    "    return arg\n",
    "\n",
    "#calculate input\n",
    "linearin = tf.add(tf.matmul(tf.add(x,nx),win),bias)\n",
    "yin = tf.case({tf.equal(act_fun,'tanh'): (lambda: tanh_fun(linearin)),\n",
    "               tf.equal(act_fun,'sigmoid'): (lambda: sigmoid_fun(linearin)),\n",
    "               tf.equal(act_fun,'relu'): (lambda: relu_fun(linearin))},\n",
    "              default=(lambda: no_fun(linearin)),\n",
    "              exclusive=True, name = 'input_nonlinearity')\n",
    "\n",
    "#calculate output\n",
    "linearout = tf.matmul(yin,tf.transpose(win))\n",
    "yout = tf.case({tf.equal(act_fun,'tanh'): (lambda: tanh_fun(linearout)),\n",
    "                tf.equal(act_fun,'sigmoid'): (lambda: sigmoid_fun(linearout)),\n",
    "                tf.equal(act_fun,'relu'): (lambda: relu_fun(linearout))},\n",
    "               default=(lambda: no_fun(linearout)),\n",
    "               exclusive=True, name='output_nonlienarity')\n",
    "\n",
    "#calculate reconstruction\n",
    "xp = tf.add(yout,nr)\n",
    "\n",
    "#calculate cost\n",
    "cost = tf.sqrt(tf.reduce_mean(tf.square(x-xp)))\n",
    "\n",
    "train_step = tf.train.AdamOptimizer(learning_rate).minimize(cost)"
   ]
  },
  {
   "cell_type": "code",
   "execution_count": null,
   "metadata": {
    "collapsed": false
   },
   "outputs": [
    {
     "name": "stdout",
     "output_type": "stream",
     "text": [
      "Training 4000 iterations in 10 epochs...\n",
      "\n",
      "Epoch 1: \n"
     ]
    }
   ],
   "source": [
    "#run it!\n",
    "#sess = tf.Session\n",
    "with tf.Session() as sess:\n",
    "    #initialize vars\n",
    "    init = tf.global_variables_initializer()\n",
    "    sess.run(init)\n",
    "    \n",
    "    #save evolution of system over training\n",
    "    cost_evolution = []\n",
    "    wmean_evolution = []\n",
    "    \n",
    "    weights_evolution = []\n",
    "    images = []\n",
    "    recons = []\n",
    "    \n",
    "    #train over niterations\n",
    "    nits = iterations #full run\n",
    "    \n",
    "    print('Training {} iterations in {} epochs...'.format(nits, epochs))\n",
    "    for epoch in range(epochs):\n",
    "        print('\\nEpoch {}: '.format(epoch+1))\n",
    "        np.random.shuffle(vhims.images)\n",
    "        for ii in range(nits):\n",
    "            image = np.reshape(vhims.images[ii*batchsize:(1+ii)*batchsize,:,:],(batchsize,imxlen*imylen)).astype(np.float32)\n",
    "            #noise_input = np.random.normal(0,noisexsigma,[patchsize**2,batchsize]).astype(np.float32)*0.\n",
    "            #noise_response = np.random.normal(0,noisersigma,[nneurons,batchsize]).astype(np.float32)*0.\n",
    "            sess.run(train_step, feed_dict={x:image, act_fun:model_type})\n",
    "\n",
    "            #save evolution of params\n",
    "            objcost, wmean = sess.run([cost,win], feed_dict={x:image, act_fun:model_type})\n",
    "            cost_evolution.append(objcost)\n",
    "            wmean_evolution.append(np.mean(wmean))\n",
    "            \n",
    "            if(ii%(int((nits)/10))==0):\n",
    "                print(str(ii)+', ',end=\"\")\n",
    "                #dump our weights\n",
    "                w = sess.run(win, feed_dict={x:image, act_fun:model_type})\n",
    "                weights_evolution.append(w)\n",
    "                #and save our image and reconstruction\n",
    "                images.append(np.reshape(image,[batchsize,imxlen,imylen]))\n",
    "                recons.append(np.reshape(sess.run(xp, feed_dict={x:image, act_fun:model_type}),[batchsize,imxlen,imylen]))\n",
    "                \n",
    "    \n",
    "    final_weights = sess.run(win, feed_dict={x:image, act_fun:model_type})\n",
    "    print('\\nDone!')"
   ]
  },
  {
   "cell_type": "code",
   "execution_count": null,
   "metadata": {
    "collapsed": false
   },
   "outputs": [],
   "source": [
    "#Show our final weights\n",
    "#wr = np.rollaxis(np.reshape(final_weights,(imxlen,imylen,nneurons)),2)\n",
    "#im = plu.display_data_tiled(wr, normalize=False, title=\"final_weights\", prev_fig=None)\n",
    "\n",
    "#Show our final weights\n",
    "weights_evolution_r = np.rollaxis(np.reshape(weights_evolution,(len(weights_evolution),imxlen,imylen,nneurons)),3,1)\n",
    "(f,sa,ai) = plu.display_data_tiled(weights_evolution_r[-1], normalize=False, title=\"final_weights\", prev_fig=None)\n",
    "f.savefig(savefolder+'weights_final.png') "
   ]
  },
  {
   "cell_type": "code",
   "execution_count": null,
   "metadata": {
    "collapsed": false
   },
   "outputs": [],
   "source": [
    "#save figures\n",
    "for i in range(len(weights_evolution_r)):\n",
    "    (f,sa,ai) = plu.display_data_tiled(weights_evolution_r[i], normalize=False,title=\"weights_evolving\", prev_fig=None)\n",
    "    f.savefig(savefolder+'/weights_evolution_'+str(i)+'.png') "
   ]
  },
  {
   "cell_type": "code",
   "execution_count": null,
   "metadata": {
    "collapsed": false
   },
   "outputs": [],
   "source": [
    "f2 = plt.figure(figsize=(6,6))\n",
    "\n",
    "plt.subplot(2,1,1,title='Weights')\n",
    "plt.plot(wmean_evolution)\n",
    "\n",
    "plt.subplot(2,1,2,title='Objective')\n",
    "plt.plot(cost_evolution)\n",
    "\n",
    "plt.tight_layout()\n",
    "\n",
    "f2.savefig(savefolder+'/cost_weights.png') "
   ]
  },
  {
   "cell_type": "code",
   "execution_count": null,
   "metadata": {
    "collapsed": false
   },
   "outputs": [],
   "source": [
    "#show an example image and reconstruction from the last iteration of learning\n",
    "patchnum = 3\n",
    "\n",
    "plots = 4\n",
    "for i in range(plots):\n",
    "    plt.subplot(plots,2,2*i+1)#,title='Patch')\n",
    "    plt.imshow(images[-1][patchnum+i],cmap='gray',interpolation='none')\n",
    "    plt.axis('off')\n",
    "    \n",
    "    plt.subplot(plots,2,2*i+2)#,title='Recon')\n",
    "    plt.imshow(recons[-1][patchnum+i],cmap='gray',interpolation='none')\n",
    "    plt.axis('off')\n",
    "\n",
    "\n",
    "plt.tight_layout()\n",
    "plt.savefig(savefolder+'/reconstruction.png') "
   ]
  },
  {
   "cell_type": "markdown",
   "metadata": {},
   "source": [
    "code to plot the tiling of on and off RFs - for now opencv isn't working"
   ]
  },
  {
   "cell_type": "code",
   "execution_count": 13,
   "metadata": {
    "collapsed": false
   },
   "outputs": [],
   "source": [
    "from sklearn import mixture\n",
    "\n",
    "def fit_circs(samples):\n",
    "    gmix = mixture.GaussianMixture(n_components=1, covariance_type='full')\n",
    "    gmix = gmix.fit(samples)\n",
    "    return(gmix.reshape(1,-1))\n",
    "\n",
    "def plotonoff(allws):\n",
    "    \n",
    "    allws = weights\n",
    "    #get on center\n",
    "    onws = np.mean(allws,axis=0)>0\n",
    "    onws = allws[:,onws]\n",
    "    #get off center\n",
    "    offws = np.mean(allws,axis=0)<0\n",
    "    offws = allws[:,offws]\n",
    "    #keep track of the circles\n",
    "    oncircs = []\n",
    "    offcircs = []\n",
    "\n",
    "    #blank 16x16 to draw circles\n",
    "    onrfs = np.zeros_like(weights[0])\n",
    "    offrfs = np.zeros_like(weights[0])\n",
    "\n",
    "    #on cells\n",
    "\n",
    "    for on in onws:\n",
    "        #circs = cv2.HoughCircles(on,cv2.CV_HOUGH_GRADIENT)\n",
    "        #circs = cv2.HoughCircles(on, oncircs, cv2.CV_HOUGH_GRADIENT,\n",
    "                           #dp=1.5, minDist=30, minRadius=3, maxRadius=10)\n",
    "        #cv2.circle(onrfs,((circ[0,0],i[0,1]),i[0,2],(0,255,0),2))\n",
    "        oncircs.append(fit_circs(on))\n",
    "\n",
    "    #off cells\n",
    "    for off in offws:\n",
    "        #circs = cv2.HoughCircles(off, offcircs, cv2.CV_HOUGH_GRADIENT,\n",
    "        #                   dp=1.5, minDist=30, minRadius=3, maxRadius=10)\n",
    "        #cv2.circle(offrfs,((circ[0,0],i[0,1]),i[0,2],(0,255,0),2))\n",
    "        offcircs.append(fit_circs(off))\n",
    "\n",
    "    print(oncircs[0])\n",
    "        \n",
    "    #plot\n",
    "    plt.figure(figsize=(6,6))\n",
    "\n",
    "    plt.subplot(1,2,1,title='On')\n",
    "    #for onc in oncircs:\n",
    "    #    plt.contour(np.linspace(0,,onrfs[1],onc)\n",
    "        \n",
    "    plt.subplot(1,2,2,title='Off')\n",
    "    #plt.imshow(offrfs)\n",
    "\n",
    "    plt.tight_layout()\n",
    "    "
   ]
  },
  {
   "cell_type": "code",
   "execution_count": 14,
   "metadata": {
    "collapsed": false,
    "scrolled": true
   },
   "outputs": [
    {
     "ename": "NameError",
     "evalue": "name 'weights' is not defined",
     "output_type": "error",
     "traceback": [
      "\u001b[0;31m---------------------------------------------------------------------------\u001b[0m",
      "\u001b[0;31mNameError\u001b[0m                                 Traceback (most recent call last)",
      "\u001b[0;32m<ipython-input-14-af15a97fc8d5>\u001b[0m in \u001b[0;36m<module>\u001b[0;34m()\u001b[0m\n\u001b[0;32m----> 1\u001b[0;31m \u001b[0mplotonoff\u001b[0m\u001b[0;34m(\u001b[0m\u001b[0mweights\u001b[0m\u001b[0;34m)\u001b[0m\u001b[0;34m\u001b[0m\u001b[0m\n\u001b[0m",
      "\u001b[0;31mNameError\u001b[0m: name 'weights' is not defined"
     ]
    }
   ],
   "source": [
    "plotonoff(weights)"
   ]
  },
  {
   "cell_type": "code",
   "execution_count": null,
   "metadata": {
    "collapsed": false
   },
   "outputs": [],
   "source": [
    "print(weights[1])"
   ]
  },
  {
   "cell_type": "code",
   "execution_count": null,
   "metadata": {
    "collapsed": false
   },
   "outputs": [],
   "source": [
    "import numpy as np\n",
    "import matplotlib.pyplot as plt\n",
    "from matplotlib.colors import LogNorm\n",
    "from sklearn import mixture\n",
    "\n",
    "n_samples = 300\n",
    "\n",
    "# generate random sample, two components\n",
    "np.random.seed(0)\n",
    "\n",
    "# generate spherical data centered on (20, 20)\n",
    "shifted_gaussian = np.random.randn(n_samples, 2) + np.array([20, 20])\n",
    "\n",
    "# generate zero centered stretched Gaussian data\n",
    "C = np.array([[0., -0.7], [3.5, .7]])\n",
    "stretched_gaussian = np.dot(np.random.randn(n_samples, 2), C)\n",
    "\n",
    "# concatenate the two datasets into the final training set\n",
    "X_train = np.vstack([shifted_gaussian, stretched_gaussian])\n",
    "\n",
    "# fit a Gaussian Mixture Model with two components\n",
    "clf = mixture.GaussianMixture(n_components=2, covariance_type='full')\n",
    "clf.fit(X_train)\n",
    "\n",
    "# display predicted scores by the model as a contour plot\n",
    "x = np.linspace(-20., 30.)\n",
    "y = np.linspace(-20., 40.)\n",
    "X, Y = np.meshgrid(x, y)\n",
    "XX = np.array([X.ravel(), Y.ravel()]).T\n",
    "Z = -clf.score_samples(XX)\n",
    "Z = Z.reshape(X.shape)\n",
    "\n",
    "CS = plt.contour(X, Y, Z, norm=LogNorm(vmin=1.0, vmax=1000.0),\n",
    "                 levels=np.logspace(0, 3, 10))\n",
    "CB = plt.colorbar(CS, shrink=0.8, extend='both')\n",
    "plt.scatter(X_train[:, 0], X_train[:, 1], .8)\n",
    "\n",
    "plt.title('Negative log-likelihood predicted by a GMM')\n",
    "plt.axis('tight')\n",
    "plt.show()"
   ]
  },
  {
   "cell_type": "markdown",
   "metadata": {
    "collapsed": true
   },
   "source": [
    "## Autoencoder Math\n",
    "\n"
   ]
  }
 ],
 "metadata": {
  "anaconda-cloud": {},
  "kernelspec": {
   "display_name": "Python [default]",
   "language": "python",
   "name": "python3"
  },
  "language_info": {
   "codemirror_mode": {
    "name": "ipython",
    "version": 3
   },
   "file_extension": ".py",
   "mimetype": "text/x-python",
   "name": "python",
   "nbconvert_exporter": "python",
   "pygments_lexer": "ipython3",
   "version": "3.5.2"
  }
 },
 "nbformat": 4,
 "nbformat_minor": 1
}
