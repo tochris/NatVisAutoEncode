{
 "cells": [
  {
   "cell_type": "code",
   "execution_count": 96,
   "metadata": {
    "collapsed": false
   },
   "outputs": [],
   "source": [
    "#Dependencies\n",
    "import numpy as np\n",
    "import pylab as pl\n",
    "import tensorflow as tf\n",
    "import matplotlib.pyplot as plt\n",
    "\n",
    "#import cv2 as cv\n",
    "\n",
    "import utils.plotutils as plu\n",
    "import utils.imreadin as imr\n",
    "\n",
    "%matplotlib inline"
   ]
  },
  {
   "cell_type": "code",
   "execution_count": 110,
   "metadata": {
    "collapsed": false
   },
   "outputs": [],
   "source": [
    "#Model Parameters\n",
    "\n",
    "#entwork params\n",
    "compression = 5\n",
    "patchsize = 16\n",
    "\n",
    "#training params\n",
    "batchsize = 1000\n",
    "iterations = 1000\n",
    "epochs = 2\n",
    "\n",
    "#noise\n",
    "noisexsigma = 0 #1e-4\n",
    "noisersigma = 0 #1e-4\n",
    "\n",
    "minact = 0.1 #5e-1\n",
    "minslo = 0.1 #1e-1\n",
    "#bslfr = 1e-1\n",
    "\n",
    "learning_rate = 0.1"
   ]
  },
  {
   "cell_type": "code",
   "execution_count": 111,
   "metadata": {
    "collapsed": false
   },
   "outputs": [
    {
     "name": "stdout",
     "output_type": "stream",
     "text": [
      "Images Loaded.\n",
      "Training 1000000 out of 4685824 total image patches.\n"
     ]
    }
   ],
   "source": [
    "#Load in images if we haven't yet.\n",
    "\n",
    "def loadimages(psz):\n",
    "    print(\"Loading Van Hateren Natural Image Database...\")\n",
    "    vhimgs = imr.vanHateren(\n",
    "        img_dir='../vanHaterenNaturalImages/VanHaterenNaturalImagesCurated.h5',\n",
    "        normalize_im = True,\n",
    "        normalize_patch = False,\n",
    "        patch_edge_size=psz\n",
    "        )\n",
    "    print(\"Done Loading!\")    \n",
    "    np.random.shuffle(vhimgs.images)\n",
    "    print(\"Done Shuffling!\")\n",
    "    return(vhimgs, psz)\n",
    "\n",
    "try:\n",
    "    vhims\n",
    "except NameError:\n",
    "    vhims, loadedpatchsize = loadimages(patchsize)\n",
    "    \n",
    "if(patchsize != loadedpatchsize):\n",
    "    vhims, loadedpatchsize = loadimages(patchsize)\n",
    "       \n",
    "print(\"Images Loaded.\")\n",
    "\n",
    "#params of images\n",
    "imxlen = len(vhims.images[0,0,:])\n",
    "imylen = len(vhims.images[0,:,0])\n",
    "nimages = len(vhims.images[:,0,0])\n",
    "\n",
    "nimstrained = batchsize * iterations\n",
    "\n",
    "if(nimstrained > nimages):\n",
    "    print('ERROR! Trying to train',nimstrained,'images, but we only have',nimages,'images!')\n",
    "else:\n",
    "    print('Training',nimstrained,'out of',nimages,'total image patches.')"
   ]
  },
  {
   "cell_type": "code",
   "execution_count": 112,
   "metadata": {
    "collapsed": false
   },
   "outputs": [
    {
     "data": {
      "text/plain": [
       "<matplotlib.colorbar.Colorbar at 0x7feea8aa0d68>"
      ]
     },
     "execution_count": 112,
     "metadata": {},
     "output_type": "execute_result"
    },
    {
     "data": {
      "image/png": "[encoded data removed]",
      "text/plain": [
       "<matplotlib.figure.Figure at 0x7feeb1c4ae10>"
      ]
     },
     "metadata": {},
     "output_type": "display_data"
    }
   ],
   "source": [
    "#show an example image\n",
    "plt.imshow(vhims.images[1],cmap='gray',interpolation='none')\n",
    "plt.colorbar()"
   ]
  },
  {
   "cell_type": "code",
   "execution_count": 113,
   "metadata": {
    "collapsed": false
   },
   "outputs": [
    {
     "name": "stdout",
     "output_type": "stream",
     "text": [
      "Compressing by 5 for a total of 51 neurons\n"
     ]
    }
   ],
   "source": [
    "nneurons = np.int(imxlen*imylen/compression)\n",
    "print('Compressing by',compression,'for a total of',nneurons,'neurons')\n",
    "\n",
    "#input image\n",
    "x = tf.placeholder(tf.float32, shape=(batchsize, imxlen*imylen),name='input_image')\n",
    "#output image\n",
    "#xp = tf.placeholder(tf.float32, shape=(batchsize,imxlen*imylen),name='output_image')\n",
    "\n",
    "#noise\n",
    "nxc = noisexsigma**2\n",
    "nrc = noisersigma**2\n",
    "nx = tf.constant(nxc,dtype=tf.float32,name='input_noise')\n",
    "nr = tf.constant(nrc,dtype=tf.float32,name='internal_noise')\n",
    "\n",
    "#weights\n",
    "win = tf.Variable(tf.random_normal([imxlen*imylen,nneurons],dtype=tf.float32,stddev=0.01),name='weights_in')\n",
    "#wout = tf.Variable(tf.random_normal([nneurons,imxlen*imylen],dtype=tf.float32,stddev=0.01),name='weights_out')\n",
    "#wout = tf.placeholder(tf.float32, shape=np.shape(win),name='weights_out')\n",
    "#bias\n",
    "bias = tf.Variable(tf.random_normal([nneurons],dtype=tf.float32,stddev=0.01),name='bias')\n",
    "\n",
    "#calculate inner layer\n",
    "y = tf.nn.sigmoid(tf.add(tf.matmul(tf.add(x,nx),win),bias))\n",
    "#calculate ouer layer\n",
    "wout = tf.transpose(win)\n",
    "xp = tf.matmul(y,wout)\n",
    "#calculate cost\n",
    "cost = tf.sqrt(tf.reduce_mean(tf.square(x-xp)))\n",
    "\n",
    "train_step = tf.train.AdamOptimizer(learning_rate).minimize(cost)"
   ]
  },
  {
   "cell_type": "code",
   "execution_count": null,
   "metadata": {
    "collapsed": false
   },
   "outputs": [
    {
     "name": "stdout",
     "output_type": "stream",
     "text": [
      "Training 1000 iterations in 2 epochs...\n",
      "\n",
      "Epoch 1: \n",
      "0, 100, 200, 300, 400, 500, 600, 700, 800, 900, "
     ]
    }
   ],
   "source": [
    "#run it!\n",
    "#sess = tf.Session\n",
    "with tf.Session() as sess:\n",
    "    #initialize vars\n",
    "    init = tf.global_variables_initializer()\n",
    "    sess.run(init)\n",
    "    \n",
    "    #save evolution of system over training\n",
    "    cost_evolution = []\n",
    "    y_evolution = []\n",
    "    \n",
    "    images = []\n",
    "    recons = []\n",
    "    \n",
    "    #train over niterations\n",
    "    nits = iterations #full run\n",
    "    \n",
    "    print('Training {} iterations in {} epochs...'.format(nits, epochs))\n",
    "    for epoch in range(epochs):\n",
    "        print('\\nEpoch {}: '.format(epoch+1))\n",
    "        np.random.shuffle(vhims.images)\n",
    "        for ii in range(nits):\n",
    "            image = np.reshape(vhims.images[ii*batchsize:(1+ii)*batchsize,:,:],(batchsize,imxlen*imylen)).astype(np.float32)\n",
    "            #noise_input = np.random.normal(0,noisexsigma,[patchsize**2,batchsize]).astype(np.float32)*0.\n",
    "            #noise_response = np.random.normal(0,noisersigma,[nneurons,batchsize]).astype(np.float32)*0.\n",
    "            sess.run(train_step, feed_dict={x:image})\n",
    "\n",
    "            #save evolution of params\n",
    "            objcost = sess.run(cost, feed_dict={x:image})\n",
    "            cost_evolution.append(objcost)\n",
    "            yr = sess.run(y, feed_dict={x:image})\n",
    "            y_evolution.append(np.mean(yr))\n",
    "            \n",
    "            if(ii%(int((nits)/10))==0):\n",
    "                print(str(ii)+', ',end=\"\")\n",
    "                #and save our image and reconstruction\n",
    "                images.append(np.reshape(image,[batchsize,imxlen,imylen]))\n",
    "                recons.append(np.reshape(sess.run(xp, feed_dict={x:image}),[batchsize,imxlen,imylen]))\n",
    "    \n",
    "    \n",
    "    weights = sess.run(win, feed_dict={x:image})\n",
    "    print('\\nDone!')"
   ]
  },
  {
   "cell_type": "code",
   "execution_count": null,
   "metadata": {
    "collapsed": false
   },
   "outputs": [],
   "source": [
    "plt.figure(figsize=(6,6))\n",
    "\n",
    "plt.subplot(2,1,1,title='Weights')\n",
    "plt.plot(y_evolution)\n",
    "\n",
    "plt.subplot(2,1,2,title='Objective')\n",
    "plt.plot(cost_evolution)\n",
    "\n",
    "plt.tight_layout()"
   ]
  },
  {
   "cell_type": "code",
   "execution_count": null,
   "metadata": {
    "collapsed": false
   },
   "outputs": [],
   "source": [
    "#Show our weights\n",
    "wr = np.rollaxis(np.reshape(weights,(imxlen,imylen,nneurons)),2)\n",
    "plu.display_data_tiled(wr, normalize=False, title=\"weights\", prev_fig=None)"
   ]
  },
  {
   "cell_type": "code",
   "execution_count": null,
   "metadata": {
    "collapsed": false
   },
   "outputs": [],
   "source": [
    "#show an example image and reconstruction from the last iteration of learning\n",
    "patchnum = 6\n",
    "\n",
    "#one example\n",
    "plt.subplot(2,2,1,title='Patch')\n",
    "plt.imshow(images[-1][patchnum],cmap='gray',interpolation='none')\n",
    "plt.subplot(2,2,2,title='Reconstruction')\n",
    "plt.imshow(recons[-1][patchnum],cmap='gray',interpolation='none')\n",
    "\n",
    "#another\n",
    "plt.subplot(2,2,3)\n",
    "plt.imshow(images[-1][patchnum+1],cmap='gray',interpolation='none')\n",
    "plt.subplot(2,2,4)\n",
    "plt.imshow(recons[-1][patchnum+1],cmap='gray',interpolation='none')\n",
    "\n",
    "plt.tight_layout()"
   ]
  },
  {
   "cell_type": "code",
   "execution_count": null,
   "metadata": {
    "collapsed": true
   },
   "outputs": [],
   "source": [
    "def plotonoff(allws):\n",
    "    allws = weights\n",
    "    #get on center\n",
    "    onws = np.mean(allws,axis=0)>0\n",
    "    onws = allws[:,onws]\n",
    "    #get off center\n",
    "    offws = np.mean(allws,axis=0)<0\n",
    "    offws = allws[:,offws]\n",
    "\n",
    "    #find circles\n",
    "    for on in onws:\n",
    "        circ = cv2.HoughCircles(on, cv2.cv.CV_HOUGH_GRADIENT,\n",
    "                           dp=1.5, minDist=30, minRadius=3, maxRadius=10)\n",
    "    \n",
    "    #plot\n",
    "    plt.figure(figsize=(6,6))\n",
    "\n",
    "    plt.subplot(1,2,1,title='On')\n",
    "    plt.plot(np.mean(y_evolution))\n",
    "\n",
    "    plt.subplot(1,2,2,title='Off')\n",
    "    plt.plot(cost_evolution)\n",
    "\n",
    "    plt.tight_layout()\n",
    "    "
   ]
  },
  {
   "cell_type": "code",
   "execution_count": null,
   "metadata": {
    "collapsed": false
   },
   "outputs": [],
   "source": [
    "allws = weights\n",
    "\n",
    "offws = np.mean(allws,axis=0)<0\n",
    "offws = allws[:,offws]\n",
    "print(offws)"
   ]
  },
  {
   "cell_type": "code",
   "execution_count": null,
   "metadata": {
    "collapsed": true
   },
   "outputs": [],
   "source": []
  }
 ],
 "metadata": {
  "anaconda-cloud": {},
  "kernelspec": {
   "display_name": "Python [default]",
   "language": "python",
   "name": "python3"
  },
  "language_info": {
   "codemirror_mode": {
    "name": "ipython",
    "version": 3
   },
   "file_extension": ".py",
   "mimetype": "text/x-python",
   "name": "python",
   "nbconvert_exporter": "python",
   "pygments_lexer": "ipython3",
   "version": "3.5.2"
  }
 },
 "nbformat": 4,
 "nbformat_minor": 1
}
