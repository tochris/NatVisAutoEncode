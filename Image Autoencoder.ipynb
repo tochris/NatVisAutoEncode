{
 "cells": [
  {
   "cell_type": "markdown",
   "metadata": {},
   "source": [
    "$$ y_{in} = F_{act}((Im+n_{in} W_{in}) + bias) $$\n",
    "$$ Im^* = F_{act}(y_{in} W_{in}^T) + n_{out} $$\n",
    "\n",
    "$$ Cost = \\sqrt{\\langle|Im-Im^*|\\rangle} + \\lambda \\langle r \\rangle $$"
   ]
  },
  {
   "cell_type": "code",
   "execution_count": 35,
   "metadata": {
    "collapsed": false
   },
   "outputs": [],
   "source": [
    "#Dependencies\n",
    "import os\n",
    "import numpy as np\n",
    "import pylab as pl\n",
    "import tensorflow as tf\n",
    "import matplotlib.pyplot as plt\n",
    "\n",
    "import utils.plotutils as plu\n",
    "import utils.imreadin as imr\n",
    "import utils.animutils as aniu\n",
    "\n",
    "%matplotlib inline\n",
    "%config InlineBackend.print_figure_kwargs = {'dpi' : 200} #plotting pretty"
   ]
  },
  {
   "cell_type": "code",
   "execution_count": 73,
   "metadata": {
    "collapsed": false
   },
   "outputs": [],
   "source": [
    "#Model Parameters\n",
    "\n",
    "tanh_model = 0\n",
    "relu_model = 0\n",
    "sigmoid_model = 1\n",
    "linear_model = 0\n",
    "\n",
    "#network params\n",
    "compression = 2.6 #for ~100 neurons\n",
    "#compression = 5\n",
    "#compression = 10\n",
    "patchsize = 16\n",
    "\n",
    "#training params\n",
    "batchsize = 100\n",
    "iterations = 10000\n",
    "epochs = 1\n",
    "\n",
    "if(tanh_model):\n",
    "    noisexsigma = 0\n",
    "    noisersigma = 0\n",
    "    minact = 0\n",
    "    minslo = 0\n",
    "    lamb = 0\n",
    "    learning_rate = 0.05\n",
    "    model_type = 'tanh'\n",
    "elif(relu_model):\n",
    "    noisexsigma = 0.5\n",
    "    noisersigma = 1\n",
    "    minact = 0\n",
    "    minslo = 0 \n",
    "    lamb = 0\n",
    "    learning_rate = 0.01\n",
    "    model_type = 'relu'\n",
    "elif(sigmoid_model):\n",
    "    #noise\n",
    "    noisexsigma = 0#0.05\n",
    "    noisersigma = 0#0.5\n",
    "    minact = 0\n",
    "    minslo = 0\n",
    "    lamb = 0 #5e-7 #5e-6 seems good.\n",
    "    learning_rate = 1e-2\n",
    "    model_type = 'sigmoid'\n",
    "elif(linear_model):\n",
    "    #noise\n",
    "    noisexsigma = 0.1\n",
    "    noisersigma = 0.1\n",
    "    minact = 0\n",
    "    minslo = 0\n",
    "    lamb = 5e-5\n",
    "    learning_rate = 1e-2\n",
    "    model_type = 'linear'\n",
    "else:\n",
    "    raise ValueError('No model specified!')"
   ]
  },
  {
   "cell_type": "code",
   "execution_count": 74,
   "metadata": {
    "collapsed": false
   },
   "outputs": [
    {
     "name": "stdout",
     "output_type": "stream",
     "text": [
      "Images Loaded.\n",
      "Training 1000000 out of 4685824 total image patches.\n"
     ]
    }
   ],
   "source": [
    "#Load in images if we haven't yet.\n",
    "\n",
    "def loadimages(psz):\n",
    "    print(\"Loading Van Hateren Natural Image Database...\")\n",
    "    vhimgs = imr.vanHateren(\n",
    "        img_dir='../vanHaterenNaturalImages/VanHaterenNaturalImagesCurated.h5',\n",
    "        #normalize=True,\n",
    "        normalize_im = True,\n",
    "        normalize_patch = False,\n",
    "        invert_colors = False,\n",
    "        patch_edge_size=psz\n",
    "        )\n",
    "    print(\"Done Loading!\")    \n",
    "    np.random.shuffle(vhimgs.images)\n",
    "    print(\"Done Shuffling!\")\n",
    "    return(vhimgs, psz)\n",
    "\n",
    "try:\n",
    "    vhims\n",
    "except NameError:\n",
    "    vhims, loadedpatchsize = loadimages(patchsize)\n",
    "    \n",
    "if(patchsize != loadedpatchsize):\n",
    "    vhims, loadedpatchsize = loadimages(patchsize)\n",
    "       \n",
    "print(\"Images Loaded.\")\n",
    "\n",
    "#params of images\n",
    "imxlen = len(vhims.images[0,0,:])\n",
    "imylen = len(vhims.images[0,:,0])\n",
    "nimages = len(vhims.images[:,0,0])\n",
    "\n",
    "nimstrained = batchsize * iterations\n",
    "\n",
    "if(nimstrained > nimages):\n",
    "    print('ERROR! Trying to train',nimstrained,'images, but we only have',nimages,'images!')\n",
    "else:\n",
    "    print('Training',nimstrained,'out of',nimages,'total image patches.')"
   ]
  },
  {
   "cell_type": "code",
   "execution_count": 75,
   "metadata": {
    "collapsed": false
   },
   "outputs": [
    {
     "data": {
      "text/plain": [
       "<matplotlib.colorbar.Colorbar at 0x7fb78b752908>"
      ]
     },
     "execution_count": 75,
     "metadata": {},
     "output_type": "execute_result"
    },
    {
     "data": {
      "image/png": "[encoded data removed]",
      "text/plain": [
       "<matplotlib.figure.Figure at 0x7fb78b77c780>"
      ]
     },
     "metadata": {},
     "output_type": "display_data"
    }
   ],
   "source": [
    "#show an example image\n",
    "plt.imshow(vhims.images[100],cmap='gray',interpolation='none')\n",
    "plt.colorbar()"
   ]
  },
  {
   "cell_type": "code",
   "execution_count": 76,
   "metadata": {
    "collapsed": false
   },
   "outputs": [
    {
     "name": "stdout",
     "output_type": "stream",
     "text": [
      "Compressing by 2.6 for a total of 98 neurons\n"
     ]
    }
   ],
   "source": [
    "nneurons = np.int(imxlen*imylen/compression)\n",
    "print('Compressing by',compression,'for a total of',nneurons,'neurons')\n",
    "savefolder = str('c/actfun_'+model_type+'/neurons_'+str(nneurons)+'/noise_in_'+str(noisexsigma)+'_out_'+str(noisersigma)+'_lambda_'+str(lamb)+'/')\n",
    "if not os.path.exists(savefolder):\n",
    "    os.makedirs(savefolder)\n",
    "\n",
    "#setup our graph\n",
    "tf.reset_default_graph()\n",
    "\n",
    "\n",
    "#input images\n",
    "with tf.name_scope('input'):\n",
    "    x = tf.placeholder(tf.float32, shape=(batchsize, imxlen*imylen))\n",
    "\n",
    "#activation function type\n",
    "with tf.name_scope('activation_function'):\n",
    "    act_fun = tf.placeholder(tf.string)\n",
    "\n",
    "#noise\n",
    "with tf.name_scope(\"input_noise\"):\n",
    "    nxc = noisexsigma**2\n",
    "    nx = tf.constant(nxc,dtype=tf.float32)\n",
    "    \n",
    "with tf.name_scope(\"internal_noise\"):\n",
    "    nrc = noisersigma**2\n",
    "    nr = tf.constant(nrc,dtype=tf.float32)\n",
    "\n",
    "#weights\n",
    "with tf.name_scope(\"weights\"):\n",
    "    win = tf.Variable(tf.random_normal([imxlen*imylen,nneurons],dtype=tf.float32,stddev=0.1))\n",
    "    #wout = tf.Variable(tf.random_normal([nneurons,imxlen*imylen],dtype=tf.float32,stddev=0.01),name='weights_out')\n",
    "\n",
    "#bias\n",
    "with tf.name_scope(\"bias\"):\n",
    "    bias = tf.Variable(tf.random_normal([nneurons],dtype=tf.float32,stddev=0.1))\n",
    "\n",
    "with tf.name_scope(\"nonlienarities\"):\n",
    "    #define nonlinearities\n",
    "    def tanh_fun(arg):\n",
    "        return tf.nn.tanh(arg) \n",
    "    def sigmoid_fun(arg):\n",
    "        return tf.nn.sigmoid(arg) \n",
    "    def relu_fun(arg):\n",
    "        return tf.nn.relu(arg) \n",
    "    def no_fun(arg):\n",
    "        return arg\n",
    "\n",
    "\n",
    "#encoding part of model\n",
    "with tf.name_scope(\"encoding\"):\n",
    "    #calculate input\n",
    "    linearin = tf.add(tf.matmul(tf.add(x,nx),win),bias) #add noise to input, and multiply by weights\n",
    "    yinlin = tf.case({tf.equal(act_fun,'tanh'): (lambda: tanh_fun(linearin)),\n",
    "                   tf.equal(act_fun,'sigmoid'): (lambda: sigmoid_fun(linearin)),\n",
    "                   tf.equal(act_fun,'relu'): (lambda: relu_fun(linearin))},\n",
    "                  default=(lambda: no_fun(linearin)),\n",
    "                  exclusive=True)\n",
    "    yin = tf.add(yinlin,nr)\n",
    "    \n",
    "    \n",
    "#output part of model\n",
    "with tf.name_scope(\"decoding\"):\n",
    "    #calculate output (reconstruction)\n",
    "    linearout = tf.matmul(yin,tf.transpose(win)) #add noise to inner layer, and multiply by weight transpose\n",
    "    xp = tf.case({tf.equal(act_fun,'tanh'): (lambda: tanh_fun(linearout)),\n",
    "                    tf.equal(act_fun,'sigmoid'): (lambda: sigmoid_fun(linearout)),\n",
    "                    tf.equal(act_fun,'relu'): (lambda: relu_fun(linearout))},\n",
    "                   default=(lambda: no_fun(linearout)),\n",
    "                   exclusive=True, name='output_nonlienarity')\n",
    "\n",
    "#calculate cost\n",
    "with tf.name_scope(\"cost_function\"):\n",
    "    cost = tf.sqrt(tf.reduce_mean(tf.square(x-xp))) - tf.reduce_sum(tf.abs(yin*lamb))\n",
    "\n",
    "train_step = tf.train.AdamOptimizer(learning_rate).minimize(cost)\n",
    "\n",
    "\n",
    "# create a summary for our cost, im, reconstruction, & weights\n",
    "with tf.name_scope('cost_viz'):\n",
    "    tf.summary.scalar(\"cost\", cost)\n",
    "    \n",
    "with tf.name_scope('image_viz'):    \n",
    "    x_t = tf.reshape(x,(batchsize,imxlen,imylen,1))\n",
    "    tf.summary.image(\"image\", x_t, max_outputs=batchsize)\n",
    "    \n",
    "with tf.name_scope('recon_viz'):\n",
    "    xp_t = tf.reshape(xp,(batchsize,imxlen,imylen,1))\n",
    "    tf.summary.image(\"recon\", xp_t,max_outputs=batchsize)\n",
    "    \n",
    "with tf.name_scope('weights_viz'):    \n",
    "    win_t = tf.reshape(tf.transpose(win),(nneurons,imxlen,imylen,1))\n",
    "    tf.summary.image(\"weights\", win_t, max_outputs=nneurons)\n",
    "\n",
    "# merge all summaries into a single \"operation\" which we can execute in a session \n",
    "summary_op = tf.summary.merge_all()"
   ]
  },
  {
   "cell_type": "code",
   "execution_count": null,
   "metadata": {
    "collapsed": false
   },
   "outputs": [
    {
     "name": "stdout",
     "output_type": "stream",
     "text": [
      "Training 10000 iterations in 1 epochs...\n",
      "\n",
      "Epoch 1: \n",
      "0, 1000, 2000, 3000, 4000, 5000, "
     ]
    }
   ],
   "source": [
    "#run it!\n",
    "\n",
    "with tf.Session() as sess:\n",
    "    #initialize vars\n",
    "    init = tf.global_variables_initializer()\n",
    "    sess.run(init)\n",
    "\n",
    "    #summary writer for tensorboard\n",
    "    writer = tf.summary.FileWriter('./output_imageac', graph=tf.get_default_graph())\n",
    "          \n",
    "    #save evolution of system over training\n",
    "    cost_evolution = []\n",
    "    wmean_evolution = []\n",
    "    \n",
    "    weights_evolution = []\n",
    "    images = []\n",
    "    recons = []\n",
    "    \n",
    "    #train over niterations\n",
    "    nits = iterations #full run\n",
    "    \n",
    "    print('Training {} iterations in {} epochs...'.format(nits, epochs))\n",
    "    for epoch in range(epochs):\n",
    "        print('\\nEpoch {}: '.format(epoch+1))\n",
    "        np.random.shuffle(vhims.images)\n",
    "        for ii in range(nits):\n",
    "            image = np.reshape(vhims.images[ii*batchsize:(1+ii)*batchsize,:,:],(batchsize,imxlen*imylen)).astype(np.float32)\n",
    "            #noise_input = np.random.normal(0,noisexsigma,[patchsize**2,batchsize]).astype(np.float32)*0.\n",
    "            #noise_response = np.random.normal(0,noisersigma,[nneurons,batchsize]).astype(np.float32)*0.\n",
    "            sess.run(train_step, feed_dict={x:image, act_fun:model_type})\n",
    "\n",
    "            #save evolution of params\n",
    "            objcost, inws = sess.run([cost, win], feed_dict={x:image, act_fun:model_type})\n",
    "            cost_evolution.append(objcost)\n",
    "            wmean_evolution.append(np.mean(inws))\n",
    "            #writer.add_summary(summary,ii)\n",
    "            \n",
    "            if(ii%(int((nits*epochs)/10))==0):\n",
    "                print(str(ii)+', ',end=\"\")\n",
    "                #dump our weights\n",
    "                w = sess.run(win, feed_dict={x:image, act_fun:model_type})\n",
    "                weights_evolution.append(w)\n",
    "                #and save our image and reconstruction\n",
    "                images.append(np.reshape(image,[batchsize,imxlen,imylen]))\n",
    "                recons.append(np.reshape(sess.run(xp, feed_dict={x:image, act_fun:model_type}),[batchsize,imxlen,imylen]))\n",
    "\n",
    "                \n",
    "    #summary of final params\n",
    "    summary, objcost, inws = sess.run([summary_op ,cost, win], feed_dict={x:image, act_fun:model_type})\n",
    "    cost_evolution.append(objcost)\n",
    "    wmean_evolution.append(np.mean(inws))\n",
    "    writer.add_summary(summary,ii)\n",
    "\n",
    "    final_weights = sess.run(win, feed_dict={x:image, act_fun:model_type})\n",
    "    writer.close()\n",
    "print('\\nDone!')\n"
   ]
  },
  {
   "cell_type": "code",
   "execution_count": null,
   "metadata": {
    "collapsed": false
   },
   "outputs": [],
   "source": [
    "#Show our final weights\n",
    "#wr = np.rollaxis(np.reshape(final_weights,(imxlen,imylen,nneurons)),2)\n",
    "#im = plu.display_data_tiled(wr, normalize=False, title=\"final_weights\", prev_fig=None)\n",
    "\n",
    "#Show our final weights\n",
    "weights_evolution_r = np.rollaxis(np.reshape(weights_evolution,(len(weights_evolution),imxlen,imylen,nneurons)),3,1)\n",
    "(f,sa,ai) = plu.display_data_tiled(weights_evolution_r[-1], normalize=False, title=\"final_weights\", prev_fig=None);\n",
    "f.savefig(savefolder+'weights_final.png') "
   ]
  },
  {
   "cell_type": "code",
   "execution_count": null,
   "metadata": {
    "collapsed": false
   },
   "outputs": [],
   "source": [
    "print(savefolder)"
   ]
  },
  {
   "cell_type": "code",
   "execution_count": null,
   "metadata": {
    "collapsed": false,
    "scrolled": true
   },
   "outputs": [],
   "source": [
    "#save figures\n",
    "if(0):\n",
    "    for i in range(len(weights_evolution_r)):\n",
    "        (f,sa,ai) = plu.display_data_tiled(weights_evolution_r[i], normalize=False,title=\"weights_evolving\", prev_fig=None);\n",
    "        f.savefig(savefolder+'/weights_evolution_'+str(i)+'.png'); "
   ]
  },
  {
   "cell_type": "code",
   "execution_count": null,
   "metadata": {
    "collapsed": false
   },
   "outputs": [],
   "source": [
    "f2 = plt.figure(figsize=(6,6))\n",
    "\n",
    "plt.subplot(2,1,1,title='Weights')\n",
    "plt.plot(wmean_evolution)\n",
    "\n",
    "plt.subplot(2,1,2,title='Objective')\n",
    "plt.plot(cost_evolution)\n",
    "\n",
    "plt.tight_layout()\n",
    "\n",
    "f2.savefig(savefolder+'/cost_weights.png') "
   ]
  },
  {
   "cell_type": "code",
   "execution_count": null,
   "metadata": {
    "collapsed": false
   },
   "outputs": [],
   "source": [
    "#show an example image and reconstruction from the last iteration of learning\n",
    "patchnum = 3\n",
    "\n",
    "plots = 4\n",
    "for i in range(plots):\n",
    "    plt.subplot(plots,2,2*i+1)#,title='Patch')\n",
    "    plt.imshow(images[-1][patchnum+i],cmap='gray',interpolation='none')\n",
    "    plt.axis('off')\n",
    "    \n",
    "    plt.subplot(plots,2,2*i+2)#,title='Recon')\n",
    "    plt.imshow(recons[-1][patchnum+i],cmap='gray',interpolation='none')\n",
    "    plt.axis('off')\n",
    "\n",
    "\n",
    "plt.tight_layout()\n",
    "plt.savefig(savefolder+'/reconstruction.png') "
   ]
  },
  {
   "cell_type": "code",
   "execution_count": null,
   "metadata": {
    "collapsed": false
   },
   "outputs": [],
   "source": [
    "fig = plu.plotonoff(weights_evolution_r[-1]);\n",
    "fig.savefig(savefolder+'/on_off_RFs.png') "
   ]
  },
  {
   "cell_type": "markdown",
   "metadata": {
    "collapsed": true
   },
   "source": [
    "## Tensorboard Analysis"
   ]
  },
  {
   "cell_type": "code",
   "execution_count": null,
   "metadata": {
    "collapsed": true
   },
   "outputs": [],
   "source": [
    "from IPython.display import clear_output, Image, display, HTML\n",
    "\n",
    "def strip_consts(graph_def, max_const_size=32):\n",
    "    \"\"\"Strip large constant values from graph_def.\"\"\"\n",
    "    strip_def = tf.GraphDef()\n",
    "    for n0 in graph_def.node:\n",
    "        n = strip_def.node.add() \n",
    "        n.MergeFrom(n0)\n",
    "        if n.op == 'Const':\n",
    "            tensor = n.attr['value'].tensor\n",
    "            size = len(tensor.tensor_content)\n",
    "            if size > max_const_size:\n",
    "                tensor.tensor_content = \"<stripped %d bytes>\"%size\n",
    "    return strip_def\n",
    "\n",
    "def show_graph(graph_def, max_const_size=32):\n",
    "    \"\"\"Visualize TensorFlow graph.\"\"\"\n",
    "    if hasattr(graph_def, 'as_graph_def'):\n",
    "        graph_def = graph_def.as_graph_def()\n",
    "    strip_def = strip_consts(graph_def, max_const_size=max_const_size)\n",
    "    code = \"\"\"\n",
    "        <script>\n",
    "          function load() {{\n",
    "            document.getElementById(\"{id}\").pbtxt = {data};\n",
    "          }}\n",
    "        </script>\n",
    "        <link rel=\"import\" href=\"https://tensorboard.appspot.com/tf-graph-basic.build.html\" onload=load()>\n",
    "        <div style=\"height:600px\">\n",
    "          <tf-graph-basic id=\"{id}\"></tf-graph-basic>\n",
    "        </div>\n",
    "    \"\"\".format(data=repr(str(strip_def)), id='graph'+str(np.random.rand()))\n",
    "\n",
    "    iframe = \"\"\"\n",
    "        <iframe seamless style=\"width:1200px;height:620px;border:0\" srcdoc=\"{}\"></iframe>\n",
    "    \"\"\".format(code.replace('\"', '&quot;'))\n",
    "    display(HTML(iframe))"
   ]
  },
  {
   "cell_type": "code",
   "execution_count": 49,
   "metadata": {
    "collapsed": false
   },
   "outputs": [],
   "source": [
    "#show_graph(tf.get_default_graph().as_graph_def())"
   ]
  },
  {
   "cell_type": "code",
   "execution_count": null,
   "metadata": {
    "collapsed": true
   },
   "outputs": [],
   "source": []
  },
  {
   "cell_type": "code",
   "execution_count": null,
   "metadata": {
    "collapsed": true
   },
   "outputs": [],
   "source": []
  },
  {
   "cell_type": "code",
   "execution_count": null,
   "metadata": {
    "collapsed": true
   },
   "outputs": [],
   "source": []
  }
 ],
 "metadata": {
  "anaconda-cloud": {},
  "kernelspec": {
   "display_name": "Python 3",
   "language": "python",
   "name": "python3"
  },
  "language_info": {
   "codemirror_mode": {
    "name": "ipython",
    "version": 3
   },
   "file_extension": ".py",
   "mimetype": "text/x-python",
   "name": "python",
   "nbconvert_exporter": "python",
   "pygments_lexer": "ipython3",
   "version": "3.6.0"
  }
 },
 "nbformat": 4,
 "nbformat_minor": 1
}
