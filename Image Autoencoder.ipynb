{
 "cells": [
  {
   "cell_type": "code",
   "execution_count": 30,
   "metadata": {
    "collapsed": true
   },
   "outputs": [],
   "source": [
    "#Dependencies\n",
    "import numpy as np\n",
    "import pylab as pl\n",
    "import tensorflow as tf\n",
    "import matplotlib.pyplot as plt\n",
    "\n",
    "import utils.plotutils as plu\n",
    "import utils.imreadin as imr\n",
    "\n",
    "%matplotlib inline"
   ]
  },
  {
   "cell_type": "code",
   "execution_count": 38,
   "metadata": {
    "collapsed": false
   },
   "outputs": [],
   "source": [
    "#Model Parameters\n",
    "compression = 10\n",
    "patchsize = 16\n",
    "batchsize = 100\n",
    "iterations = 46000\n",
    "\n",
    "#noise\n",
    "noisexsigma = 0 #1e-4\n",
    "noisersigma = 0 #1e-4\n",
    "\n",
    "minact = 0.1 #5e-1\n",
    "minslo = 0.1 #1e-1\n",
    "#bslfr = 1e-1\n",
    "\n",
    "learning_rate = 1"
   ]
  },
  {
   "cell_type": "code",
   "execution_count": 39,
   "metadata": {
    "collapsed": false
   },
   "outputs": [
    {
     "name": "stdout",
     "output_type": "stream",
     "text": [
      "Images Loaded.\n",
      "Training 4600000 out of 4685824 total image patches.\n"
     ]
    }
   ],
   "source": [
    "#Load in images if we haven't yet.\n",
    "\n",
    "def loadimages(psz):\n",
    "    print(\"Loading Van Hateren Natural Image Database...\")\n",
    "    vhimgs = imr.vanHateren(\n",
    "        img_dir='../vanHaterenNaturalImages/VanHaterenNaturalImagesCurated.h5',\n",
    "        normalize = True,\n",
    "        patch_edge_size=psz\n",
    "        )\n",
    "    print(\"Done Loading!\")    \n",
    "    np.random.shuffle(vhimgs.images)\n",
    "    print(\"Done Shuffling!\")\n",
    "    return(vhimgs, psz)\n",
    "\n",
    "try:\n",
    "    vhims\n",
    "except NameError:\n",
    "    vhims, loadedpatchsize = loadimages(patchsize)\n",
    "    \n",
    "if(patchsize != loadedpatchsize):\n",
    "    vhims, loadedpatchsize = loadimages(patchsize)\n",
    "       \n",
    "print(\"Images Loaded.\")\n",
    "\n",
    "#params of images\n",
    "imxlen = len(vhims.images[0,0,:])\n",
    "imylen = len(vhims.images[0,:,0])\n",
    "nimages = len(vhims.images[:,0,0])\n",
    "\n",
    "nimstrained = batchsize * iterations\n",
    "\n",
    "if(nimstrained > nimages):\n",
    "    print('ERROR! Trying to train',nimstrained,'images, but we only have',nimages,'images!')\n",
    "else:\n",
    "    print('Training',nimstrained,'out of',nimages,'total image patches.')"
   ]
  },
  {
   "cell_type": "code",
   "execution_count": 40,
   "metadata": {
    "collapsed": false
   },
   "outputs": [
    {
     "data": {
      "text/plain": [
       "<matplotlib.colorbar.Colorbar at 0x7f6e03fb65f8>"
      ]
     },
     "execution_count": 40,
     "metadata": {},
     "output_type": "execute_result"
    },
    {
     "data": {
      "image/png": "[encoded data removed]",
      "text/plain": [
       "<matplotlib.figure.Figure at 0x7f6e3366a198>"
      ]
     },
     "metadata": {},
     "output_type": "display_data"
    }
   ],
   "source": [
    "#show an example image\n",
    "plt.imshow(vhims.images[5],cmap='gray',interpolation='none')\n",
    "plt.colorbar()"
   ]
  },
  {
   "cell_type": "code",
   "execution_count": 41,
   "metadata": {
    "collapsed": false
   },
   "outputs": [
    {
     "name": "stdout",
     "output_type": "stream",
     "text": [
      "Compressing by 10 for a total of 25 neurons\n"
     ]
    }
   ],
   "source": [
    "nneurons = np.int(imxlen*imylen/compression)\n",
    "print('Compressing by',compression,'for a total of',nneurons,'neurons')\n",
    "\n",
    "#input image\n",
    "x = tf.placeholder(tf.float32, shape=(batchsize, imxlen*imylen),name='input_image')\n",
    "#output image\n",
    "#xp = tf.placeholder(tf.float32, shape=(batchsize,imxlen*imylen),name='output_image')\n",
    "\n",
    "#noise\n",
    "nxc = noisexsigma**2\n",
    "nrc = noisersigma**2\n",
    "nx = tf.constant(nxc,dtype=tf.float32,name='input_noise')\n",
    "nr = tf.constant(nrc,dtype=tf.float32,name='internal_noise')\n",
    "\n",
    "#weights\n",
    "win = tf.Variable(tf.random_normal([imxlen*imylen,nneurons],dtype=tf.float32,stddev=1),name='weights_in')\n",
    "#wout = tf.placeholder(tf.float32, shape=np.shape(win),name='weights_out')\n",
    "\n",
    "#calculate inner layer\n",
    "y = tf.nn.tanh(tf.matmul(tf.add(x, nx),win))\n",
    "#calculate ouer layer\n",
    "xp = tf.nn.tanh(tf.matmul(y,tf.transpose(win)))\n",
    "#calculate cost\n",
    "cost = tf.sqrt(tf.reduce_mean(tf.square(x-xp)))\n",
    "\n",
    "train_step = tf.train.GradientDescentOptimizer(learning_rate).minimize(cost)"
   ]
  },
  {
   "cell_type": "code",
   "execution_count": null,
   "metadata": {
    "collapsed": false
   },
   "outputs": [
    {
     "name": "stdout",
     "output_type": "stream",
     "text": [
      "Training 46000 iterations...\n",
      "0, 4600, 9200, 13800, "
     ]
    }
   ],
   "source": [
    "#run it!\n",
    "#sess = tf.Session\n",
    "with tf.Session() as sess:\n",
    "    #initialize vars\n",
    "    init = tf.global_variables_initializer()\n",
    "    sess.run(init)\n",
    "    \n",
    "    #save evolution of system over training\n",
    "    cost_evolution = []\n",
    "    weights_evolution = []\n",
    "    \n",
    "    hist = {}\n",
    "    \n",
    "    #train over niterations\n",
    "    nits = iterations #full run\n",
    "    \n",
    "    print('Training {} iterations...'.format(nits))\n",
    "    for ii in range(nits):\n",
    "        if(ii%(int((nits)/10))==0):\n",
    "            print(str(ii)+', ',end=\"\")\n",
    "        image = np.reshape(vhims.images[ii*batchsize:(1+ii)*batchsize,:,:],(batchsize,imxlen*imylen)).astype(np.float32)\n",
    "        #noise_input = np.random.normal(0,noisexsigma,[patchsize**2,batchsize]).astype(np.float32)*0.\n",
    "        #noise_response = np.random.normal(0,noisersigma,[nneurons,batchsize]).astype(np.float32)*0.\n",
    "        hist[0] = image\n",
    "        sess.run(train_step, feed_dict={x:image})\n",
    "        \n",
    "        #save evolution of params\n",
    "        objcost = sess.run(cost, feed_dict={x:image})\n",
    "        cost_evolution.append(objcost)\n",
    "        weightsr = sess.run(win, feed_dict={x:image})\n",
    "        weights_evolution.append(np.mean(weightsr))\n",
    "        \n",
    "\n",
    "    weights = sess.run(win, feed_dict={x:image})\n",
    "    print('Done!')"
   ]
  },
  {
   "cell_type": "code",
   "execution_count": null,
   "metadata": {
    "collapsed": false
   },
   "outputs": [],
   "source": [
    "plt.figure(figsize=(6,6))\n",
    "\n",
    "plt.subplot(2,1,1,title='Weights')\n",
    "plt.plot(np.mean(weights_evolution))\n",
    "\n",
    "plt.subplot(2,1,2,title='Objective')\n",
    "plt.plot(cost_evolution)\n",
    "\n",
    "plt.tight_layout()"
   ]
  },
  {
   "cell_type": "code",
   "execution_count": null,
   "metadata": {
    "collapsed": false
   },
   "outputs": [],
   "source": [
    "wr = np.rollaxis(np.reshape(weights,(imxlen,imylen,nneurons)),2)\n",
    "plu.display_data_tiled(wr, normalize=False, title=\"weights\", prev_fig=None)"
   ]
  },
  {
   "cell_type": "code",
   "execution_count": null,
   "metadata": {
    "collapsed": true
   },
   "outputs": [],
   "source": []
  }
 ],
 "metadata": {
  "anaconda-cloud": {},
  "kernelspec": {
   "display_name": "Python [default]",
   "language": "python",
   "name": "python3"
  },
  "language_info": {
   "codemirror_mode": {
    "name": "ipython",
    "version": 3
   },
   "file_extension": ".py",
   "mimetype": "text/x-python",
   "name": "python",
   "nbconvert_exporter": "python",
   "pygments_lexer": "ipython3",
   "version": "3.5.2"
  }
 },
 "nbformat": 4,
 "nbformat_minor": 1
}
