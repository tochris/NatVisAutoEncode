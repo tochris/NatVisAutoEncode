{
 "cells": [
  {
   "cell_type": "code",
   "execution_count": 1,
   "metadata": {
    "collapsed": false
   },
   "outputs": [],
   "source": [
    "#Dependencies\n",
    "import numpy as np\n",
    "import pylab as pl\n",
    "import tensorflow as tf\n",
    "import matplotlib.pyplot as plt\n",
    "\n",
    "\n",
    "import utils.plotutils as plu\n",
    "import utils.imreadin as imr\n",
    "\n",
    "%matplotlib inline"
   ]
  },
  {
   "cell_type": "code",
   "execution_count": 12,
   "metadata": {
    "collapsed": false
   },
   "outputs": [],
   "source": [
    "#Model Parameters\n",
    "\n",
    "#entwork params\n",
    "compression = 5\n",
    "patchsize = 16\n",
    "\n",
    "#training params\n",
    "batchsize = 100\n",
    "iterations = 10000\n",
    "epochs = 2\n",
    "\n",
    "#noise\n",
    "noisexsigma = 1e-3\n",
    "noisersigma = 1e-3\n",
    "\n",
    "minact = 0.1 #5e-1\n",
    "minslo = 0.1 #1e-1\n",
    "#bslfr = 1e-1\n",
    "\n",
    "learning_rate = 0.01"
   ]
  },
  {
   "cell_type": "code",
   "execution_count": 13,
   "metadata": {
    "collapsed": false
   },
   "outputs": [
    {
     "name": "stdout",
     "output_type": "stream",
     "text": [
      "Images Loaded.\n",
      "Training 1000000 out of 4685824 total image patches.\n"
     ]
    }
   ],
   "source": [
    "#Load in images if we haven't yet.\n",
    "\n",
    "def loadimages(psz):\n",
    "    print(\"Loading Van Hateren Natural Image Database...\")\n",
    "    vhimgs = imr.vanHateren(\n",
    "        img_dir='../vanHaterenNaturalImages/VanHaterenNaturalImagesCurated.h5',\n",
    "        #normalize=True,\n",
    "        normalize_im = True,\n",
    "        normalize_patch = False,\n",
    "        patch_edge_size=psz\n",
    "        )\n",
    "    print(\"Done Loading!\")    \n",
    "    np.random.shuffle(vhimgs.images)\n",
    "    print(\"Done Shuffling!\")\n",
    "    return(vhimgs, psz)\n",
    "\n",
    "try:\n",
    "    vhims\n",
    "except NameError:\n",
    "    vhims, loadedpatchsize = loadimages(patchsize)\n",
    "    \n",
    "if(patchsize != loadedpatchsize):\n",
    "    vhims, loadedpatchsize = loadimages(patchsize)\n",
    "       \n",
    "print(\"Images Loaded.\")\n",
    "\n",
    "#params of images\n",
    "imxlen = len(vhims.images[0,0,:])\n",
    "imylen = len(vhims.images[0,:,0])\n",
    "nimages = len(vhims.images[:,0,0])\n",
    "\n",
    "nimstrained = batchsize * iterations\n",
    "\n",
    "if(nimstrained > nimages):\n",
    "    print('ERROR! Trying to train',nimstrained,'images, but we only have',nimages,'images!')\n",
    "else:\n",
    "    print('Training',nimstrained,'out of',nimages,'total image patches.')"
   ]
  },
  {
   "cell_type": "code",
   "execution_count": 14,
   "metadata": {
    "collapsed": false
   },
   "outputs": [
    {
     "data": {
      "text/plain": [
       "<matplotlib.colorbar.Colorbar at 0x7f52a821ae10>"
      ]
     },
     "execution_count": 14,
     "metadata": {},
     "output_type": "execute_result"
    },
    {
     "data": {
      "image/png": "[encoded data removed]",
      "text/plain": [
       "<matplotlib.figure.Figure at 0x7f52a8143400>"
      ]
     },
     "metadata": {},
     "output_type": "display_data"
    }
   ],
   "source": [
    "#show an example image\n",
    "plt.imshow(vhims.images[100],cmap='gray',interpolation='none')\n",
    "plt.colorbar()"
   ]
  },
  {
   "cell_type": "code",
   "execution_count": 15,
   "metadata": {
    "collapsed": false
   },
   "outputs": [
    {
     "name": "stdout",
     "output_type": "stream",
     "text": [
      "Compressing by 5 for a total of 51 neurons\n"
     ]
    }
   ],
   "source": [
    "nneurons = np.int(imxlen*imylen/compression)\n",
    "print('Compressing by',compression,'for a total of',nneurons,'neurons')\n",
    "\n",
    "#input image\n",
    "x = tf.placeholder(tf.float32, shape=(batchsize, imxlen*imylen),name='input_image')\n",
    "#output image\n",
    "#xp = tf.placeholder(tf.float32, shape=(batchsize,imxlen*imylen),name='output_image')\n",
    "\n",
    "#noise\n",
    "nxc = noisexsigma**2\n",
    "nrc = noisersigma**2\n",
    "nx = tf.constant(nxc,dtype=tf.float32,name='input_noise')\n",
    "nr = tf.constant(nrc,dtype=tf.float32,name='internal_noise')\n",
    "\n",
    "#weights\n",
    "win = tf.Variable(tf.random_normal([imxlen*imylen,nneurons],dtype=tf.float32,stddev=0.1),name='weights_in')\n",
    "#wout = tf.Variable(tf.random_normal([nneurons,imxlen*imylen],dtype=tf.float32,stddev=0.01),name='weights_out')\n",
    "#wout = tf.placeholder(tf.float32, shape=np.shape(win),name='weights_out')\n",
    "#bias\n",
    "bias = tf.Variable(tf.random_normal([nneurons],dtype=tf.float32,stddev=0.1),name='bias')\n",
    "\n",
    "#calculate inner layer\n",
    "y = tf.nn.sigmoid(tf.add(tf.matmul(tf.add(x,nx),win),bias))\n",
    "#y = tf.nn.tanh(tf.add(tf.matmul(tf.add(x,nx),win),bias))\n",
    "\n",
    "#calculate ouer layer\n",
    "wout = tf.transpose(win)\n",
    "xp = tf.matmul(y,wout)\n",
    "#calculate cost\n",
    "cost = tf.sqrt(tf.reduce_mean(tf.square(x-xp)))\n",
    "\n",
    "train_step = tf.train.AdamOptimizer(learning_rate).minimize(cost)"
   ]
  },
  {
   "cell_type": "code",
   "execution_count": null,
   "metadata": {
    "collapsed": false
   },
   "outputs": [
    {
     "name": "stdout",
     "output_type": "stream",
     "text": [
      "Training 10000 iterations in 2 epochs...\n",
      "\n",
      "Epoch 1: \n",
      "0, 1000, 2000, 3000, 4000, 5000, 6000, 7000, 8000, 9000, \n",
      "Epoch 2: \n",
      "0, 1000, 2000, 3000, 4000, "
     ]
    }
   ],
   "source": [
    "#run it!\n",
    "#sess = tf.Session\n",
    "with tf.Session() as sess:\n",
    "    #initialize vars\n",
    "    init = tf.global_variables_initializer()\n",
    "    sess.run(init)\n",
    "    \n",
    "    #save evolution of system over training\n",
    "    cost_evolution = []\n",
    "    y_evolution = []\n",
    "    \n",
    "    images = []\n",
    "    recons = []\n",
    "    \n",
    "    #train over niterations\n",
    "    nits = iterations #full run\n",
    "    \n",
    "    print('Training {} iterations in {} epochs...'.format(nits, epochs))\n",
    "    for epoch in range(epochs):\n",
    "        print('\\nEpoch {}: '.format(epoch+1))\n",
    "        np.random.shuffle(vhims.images)\n",
    "        for ii in range(nits):\n",
    "            image = np.reshape(vhims.images[ii*batchsize:(1+ii)*batchsize,:,:],(batchsize,imxlen*imylen)).astype(np.float32)\n",
    "            #noise_input = np.random.normal(0,noisexsigma,[patchsize**2,batchsize]).astype(np.float32)*0.\n",
    "            #noise_response = np.random.normal(0,noisersigma,[nneurons,batchsize]).astype(np.float32)*0.\n",
    "            sess.run(train_step, feed_dict={x:image})\n",
    "\n",
    "            #save evolution of params\n",
    "            objcost, yr = sess.run([cost,y], feed_dict={x:image})\n",
    "            cost_evolution.append(objcost)\n",
    "            y_evolution.append(np.mean(yr))\n",
    "            \n",
    "            if(ii%(int((nits)/10))==0):\n",
    "                print(str(ii)+', ',end=\"\")\n",
    "                #and save our image and reconstruction\n",
    "                images.append(np.reshape(image,[batchsize,imxlen,imylen]))\n",
    "                recons.append(np.reshape(sess.run(xp, feed_dict={x:image}),[batchsize,imxlen,imylen]))\n",
    "    \n",
    "    \n",
    "    weights = sess.run(win, feed_dict={x:image})\n",
    "    print('\\nDone!')"
   ]
  },
  {
   "cell_type": "code",
   "execution_count": null,
   "metadata": {
    "collapsed": false
   },
   "outputs": [],
   "source": [
    "#Show our weights\n",
    "wr = np.rollaxis(np.reshape(weights,(imxlen,imylen,nneurons)),2)\n",
    "plu.display_data_tiled(wr, normalize=False, title=\"weights\", prev_fig=None)"
   ]
  },
  {
   "cell_type": "code",
   "execution_count": null,
   "metadata": {
    "collapsed": false
   },
   "outputs": [],
   "source": [
    "plt.figure(figsize=(6,6))\n",
    "\n",
    "plt.subplot(2,1,1,title='Weights')\n",
    "plt.plot(y_evolution)\n",
    "\n",
    "plt.subplot(2,1,2,title='Objective')\n",
    "plt.plot(cost_evolution)\n",
    "\n",
    "plt.tight_layout()"
   ]
  },
  {
   "cell_type": "code",
   "execution_count": null,
   "metadata": {
    "collapsed": false
   },
   "outputs": [],
   "source": [
    "#show an example image and reconstruction from the last iteration of learning\n",
    "patchnum = 6\n",
    "\n",
    "#one example\n",
    "plt.subplot(2,2,1,title='Patch')\n",
    "plt.imshow(images[-1][patchnum],cmap='gray',interpolation='none')\n",
    "plt.subplot(2,2,2,title='Reconstruction')\n",
    "plt.imshow(recons[-1][patchnum],cmap='gray',interpolation='none')\n",
    "\n",
    "#another\n",
    "plt.subplot(2,2,3)\n",
    "plt.imshow(images[-1][patchnum+1],cmap='gray',interpolation='none')\n",
    "plt.subplot(2,2,4)\n",
    "plt.imshow(recons[-1][patchnum+1],cmap='gray',interpolation='none')\n",
    "\n",
    "plt.tight_layout()"
   ]
  },
  {
   "cell_type": "markdown",
   "metadata": {},
   "source": [
    "bonus code - for now opencv isn't working"
   ]
  },
  {
   "cell_type": "code",
   "execution_count": 10,
   "metadata": {
    "collapsed": false
   },
   "outputs": [],
   "source": [
    "def plotonoff(allws):\n",
    "    allws = weights\n",
    "    #get on center\n",
    "    onws = np.mean(allws,axis=0)>0\n",
    "    onws = allws[:,onws]\n",
    "    #get off center\n",
    "    offws = np.mean(allws,axis=0)<0\n",
    "    offws = allws[:,offws]\n",
    "    #keep track of the circles\n",
    "    oncircs = []\n",
    "    oncircs = []\n",
    "    \n",
    "    #blank 16x16 to draw circles\n",
    "    onrfs = np.zeros_like(weights[0])\n",
    "    offrfs = np.zeros_like(weights[0])\n",
    "    \n",
    "    #on cells\n",
    "    \n",
    "    for on in onws:\n",
    "        circs = cv2.HoughCircles(on,cv2.CV_HOUGH_GRADIENT)\n",
    "        #circs = cv2.HoughCircles(on, oncircs, cv2.CV_HOUGH_GRADIENT,\n",
    "                           #dp=1.5, minDist=30, minRadius=3, maxRadius=10)\n",
    "        cv2.circle(onrfs,((circ[0,0],i[0,1]),i[0,2],(0,255,0),2))\n",
    "        \n",
    "    #off cells\n",
    "    for off in offws:\n",
    "        circs = cv2.HoughCircles(off, offcircs, cv2.CV_HOUGH_GRADIENT,\n",
    "                           dp=1.5, minDist=30, minRadius=3, maxRadius=10)\n",
    "        cv2.circle(offrfs,((circ[0,0],i[0,1]),i[0,2],(0,255,0),2))\n",
    "  \n",
    "    \n",
    "    #plot\n",
    "    plt.figure(figsize=(6,6))\n",
    "\n",
    "    plt.subplot(1,2,1,title='On')\n",
    "    plt.imshow(onrfs)\n",
    "\n",
    "    plt.subplot(1,2,2,title='Off')\n",
    "    plt.imshow(offrfs)\n",
    "\n",
    "    plt.tight_layout()\n",
    "    "
   ]
  },
  {
   "cell_type": "code",
   "execution_count": 11,
   "metadata": {
    "collapsed": false,
    "scrolled": true
   },
   "outputs": [
    {
     "ename": "NameError",
     "evalue": "name 'cv2' is not defined",
     "output_type": "error",
     "traceback": [
      "\u001b[0;31m---------------------------------------------------------------------------\u001b[0m",
      "\u001b[0;31mNameError\u001b[0m                                 Traceback (most recent call last)",
      "\u001b[0;32m<ipython-input-11-af15a97fc8d5>\u001b[0m in \u001b[0;36m<module>\u001b[0;34m()\u001b[0m\n\u001b[0;32m----> 1\u001b[0;31m \u001b[0mplotonoff\u001b[0m\u001b[0;34m(\u001b[0m\u001b[0mweights\u001b[0m\u001b[0;34m)\u001b[0m\u001b[0;34m\u001b[0m\u001b[0m\n\u001b[0m",
      "\u001b[0;32m<ipython-input-10-a70cef974136>\u001b[0m in \u001b[0;36mplotonoff\u001b[0;34m(allws)\u001b[0m\n\u001b[1;32m     18\u001b[0m \u001b[0;34m\u001b[0m\u001b[0m\n\u001b[1;32m     19\u001b[0m     \u001b[0;32mfor\u001b[0m \u001b[0mon\u001b[0m \u001b[0;32min\u001b[0m \u001b[0monws\u001b[0m\u001b[0;34m:\u001b[0m\u001b[0;34m\u001b[0m\u001b[0m\n\u001b[0;32m---> 20\u001b[0;31m         \u001b[0mcircs\u001b[0m \u001b[0;34m=\u001b[0m \u001b[0mcv2\u001b[0m\u001b[0;34m.\u001b[0m\u001b[0mHoughCircles\u001b[0m\u001b[0;34m(\u001b[0m\u001b[0mon\u001b[0m\u001b[0;34m,\u001b[0m\u001b[0mcv2\u001b[0m\u001b[0;34m.\u001b[0m\u001b[0mCV_HOUGH_GRADIENT\u001b[0m\u001b[0;34m)\u001b[0m\u001b[0;34m\u001b[0m\u001b[0m\n\u001b[0m\u001b[1;32m     21\u001b[0m         \u001b[0;31m#circs = cv2.HoughCircles(on, oncircs, cv2.CV_HOUGH_GRADIENT,\u001b[0m\u001b[0;34m\u001b[0m\u001b[0;34m\u001b[0m\u001b[0m\n\u001b[1;32m     22\u001b[0m                            \u001b[0;31m#dp=1.5, minDist=30, minRadius=3, maxRadius=10)\u001b[0m\u001b[0;34m\u001b[0m\u001b[0;34m\u001b[0m\u001b[0m\n",
      "\u001b[0;31mNameError\u001b[0m: name 'cv2' is not defined"
     ]
    }
   ],
   "source": [
    "plotonoff(weights)"
   ]
  },
  {
   "cell_type": "code",
   "execution_count": null,
   "metadata": {
    "collapsed": true
   },
   "outputs": [],
   "source": []
  }
 ],
 "metadata": {
  "anaconda-cloud": {},
  "kernelspec": {
   "display_name": "Python [default]",
   "language": "python",
   "name": "python3"
  },
  "language_info": {
   "codemirror_mode": {
    "name": "ipython",
    "version": 3
   },
   "file_extension": ".py",
   "mimetype": "text/x-python",
   "name": "python",
   "nbconvert_exporter": "python",
   "pygments_lexer": "ipython3",
   "version": "3.5.2"
  }
 },
 "nbformat": 4,
 "nbformat_minor": 1
}
